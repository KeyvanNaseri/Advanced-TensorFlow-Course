{
 "cells": [
  {
   "cell_type": "markdown",
   "metadata": {
    "id": "X92cEw1w8Kit"
   },
   "source": [
    "## Categorical Focal Loss\n",
    "In this assignment we will implement a categorical focal loss function with \"L1\" and \"L2\" regularization for multi-class classification problems.\\\n",
    "Focal Loss have several applications in problems which have inbalance datasets such as Object Detection:\n",
    "you can learn more about this loss function here:\n",
    "https://medium.com/swlh/focal-loss-what-why-and-how-df6735f26616"
   ]
  },
  {
   "cell_type": "code",
   "execution_count": null,
   "metadata": {
    "id": "X3bSV4DJ8GXM"
   },
   "outputs": [],
   "source": [
    "import tensorflow as tf"
   ]
  },
  {
   "cell_type": "markdown",
   "metadata": {
    "id": "i9ZjwB5c980p"
   },
   "source": [
    "## Focal Loss Formula:\n",
    "$$\n",
    "FL(y_{true}, y_{pred}) = - \\alpha * y_{true} * (1 - y_{pred})^ γ * log(y_{pred}) \\\\\n",
    "l1(y_{true}, y_{pred}) = ∑|y_{pred}| \\\\\n",
    "l2(y_{true}, y_{pred}) = \\sum (y_{pred})^2 \\\\\n",
    "total-loss = FL + l1_w * l1 + l2_2 * l2\n",
    "$$"
   ]
  },
  {
   "cell_type": "code",
   "execution_count": null,
   "metadata": {
    "id": "DTf7IwJd86pQ"
   },
   "outputs": [],
   "source": [
    "class CategoricalFocalLoss(tf.keras.losses.Loss):\n",
    "    def __init__(self, alpha=0.25, gamma=2, l1=0.01, l2=0.01, **kwargs):\n",
    "        super(CategoricalFocalLoss, self).__init__(**kwargs)\n",
    "        #Code Here"
   ]
  },
  {
   "cell_type": "code",
   "execution_count": null,
   "metadata": {
    "id": "Hc6pe74GEnAK"
   },
   "outputs": [],
   "source": [
    "\n",
    "def build_model(dense_units, input_shape=(224, 224) + (3,)):\n",
    "  model = tf.keras.models.Sequential([\n",
    "      tf.keras.layers.Conv2D(16, (3, 3), activation='relu', input_shape=input_shape),\n",
    "      tf.keras.layers.MaxPooling2D(2, 2),\n",
    "      tf.keras.layers.Conv2D(32, (3, 3), activation='relu'),\n",
    "      tf.keras.layers.MaxPooling2D(2, 2),\n",
    "      tf.keras.layers.Conv2D(64, (3, 3), activation='relu'),\n",
    "      tf.keras.layers.MaxPooling2D(2, 2),\n",
    "      tf.keras.layers.Flatten(),\n",
    "      tf.keras.layers.Dense(dense_units, activation='relu'),\n",
    "      tf.keras.layers.Dense(2, activation='softmax')\n",
    "  ])\n",
    "  return model"
   ]
  },
  {
   "cell_type": "code",
   "execution_count": null,
   "metadata": {
    "id": "0YtH-VbM91oC"
   },
   "outputs": [],
   "source": [
    "import tensorflow_datasets as tfds\n",
    "dataset = tfds.load('cats_vs_dogs', split=tfds.Split.TRAIN, data_dir='data/')\n",
    "\n",
    "# Initialize VGG with the number of classes \n",
    "model = build_model(dense_units=256)\n",
    "\n",
    "# Compile with losses and metrics\n",
    "model.compile(optimizer='adam', loss=CategoricalFocalLoss(), metrics=['accuracy'])\n",
    "\n",
    "# Define preprocessing function\n",
    "def preprocess(features):\n",
    "    # Resize and normalize\n",
    "    image = tf.image.resize(features['image'], (224, 224))\n",
    "    return tf.cast(image, tf.float32) / 255., tf.cast(tf.one_hot(features['label'], depth=2), tf.float32)\n",
    "\n",
    "# Apply transformations to dataset\n",
    "dataset = dataset.map(preprocess).batch(32)\n",
    "\n",
    "# Train the custom VGG model\n",
    "model.fit(dataset, epochs=10)"
   ]
  },
  {
   "cell_type": "code",
   "execution_count": null,
   "metadata": {
    "id": "L0By2tC2FBUZ"
   },
   "outputs": [],
   "source": []
  }
 ],
 "metadata": {
  "colab": {
   "authorship_tag": "ABX9TyPdAeh4gDzxN9JIViJggC/K",
   "provenance": []
  },
  "kernelspec": {
   "display_name": "Python 3 (ipykernel)",
   "language": "python",
   "name": "python3"
  },
  "language_info": {
   "codemirror_mode": {
    "name": "ipython",
    "version": 3
   },
   "file_extension": ".py",
   "mimetype": "text/x-python",
   "name": "python",
   "nbconvert_exporter": "python",
   "pygments_lexer": "ipython3",
   "version": "3.9.16"
  }
 },
 "nbformat": 4,
 "nbformat_minor": 1
}
