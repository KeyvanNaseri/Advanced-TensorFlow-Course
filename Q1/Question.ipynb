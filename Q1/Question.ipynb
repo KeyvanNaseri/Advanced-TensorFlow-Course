{
 "cells": [
  {
   "cell_type": "markdown",
   "metadata": {
    "id": "nVP74c0s3lXm"
   },
   "source": [
    "# Graph Mode Computations\n",
    "In previous section of the course we investigate the properties and characteristics of **Graph Mode** and **Eager Mode** in TensorFlow. We saw that although most of times they behave same, there are cases where they behave differently like writing `print` statements or debugging. \\\n",
    "In this assignment we will investigate other cases:"
   ]
  },
  {
   "cell_type": "code",
   "execution_count": 1,
   "metadata": {
    "id": "PiaAwAWAz44y"
   },
   "outputs": [],
   "source": [
    "import tensorflow as tf\n",
    "import numpy as np"
   ]
  },
  {
   "cell_type": "markdown",
   "metadata": {
    "id": "ZtUPSKdU4xqd"
   },
   "source": [
    "## 1. Lists\n",
    "Python list is poorly supported in graph mode. In particular, when the list is modified inside or outside the `@tf.function` method.\\\n",
    "**Run the next two cells to see the unexpected behaviour.**\n"
   ]
  },
  {
   "cell_type": "code",
   "execution_count": 2,
   "metadata": {
    "id": "rMdT8soM1oiz"
   },
   "outputs": [],
   "source": [
    "l = []\n",
    "\n",
    "@tf.function\n",
    "def f(x):\n",
    "    for i in x:\n",
    "        l.append(i + 1)"
   ]
  },
  {
   "cell_type": "code",
   "execution_count": 3,
   "metadata": {
    "id": "L9F0hPs62Cgo"
   },
   "outputs": [
    {
     "name": "stdout",
     "output_type": "stream",
     "text": [
      "[<tf.Tensor 'while/add:0' shape=() dtype=int32>]\n"
     ]
    }
   ],
   "source": [
    "f(tf.constant([1, 2, 3]))\n",
    "print(l)"
   ]
  },
  {
   "cell_type": "markdown",
   "metadata": {
    "id": "80rk0Oe06NQS"
   },
   "source": [
    "Let's rewrite this function with the use of `TensorArray` which is a data structure for dynamic arrays.\n",
    "use its `write` and `stack` method to rewrite the above function.\\\n",
    "https://www.tensorflow.org/api_docs/python/tf/TensorArray#write\n",
    "\n",
    "https://www.tensorflow.org/api_docs/python/tf/TensorArray#stack"
   ]
  },
  {
   "cell_type": "code",
   "execution_count": 12,
   "metadata": {
    "id": "vIh5L90N2J0x"
   },
   "outputs": [],
   "source": [
    "@tf.function\n",
    "def f(x):\n",
    "    ta = tf.TensorArray(dtype=tf.int32, size=0, dynamic_size=True)\n",
    "    for i in range(len(x)):\n",
    "        ta = ta.write(i, i+1)\n",
    "    return ta.stack()"
   ]
  },
  {
   "cell_type": "code",
   "execution_count": 13,
   "metadata": {
    "id": "9nsGqkK83DNB"
   },
   "outputs": [
    {
     "data": {
      "text/plain": [
       "<tf.Tensor: shape=(3,), dtype=int32, numpy=array([1, 2, 3])>"
      ]
     },
     "execution_count": 13,
     "metadata": {},
     "output_type": "execute_result"
    }
   ],
   "source": [
    "a = f(tf.constant([1, 2, 3]))\n",
    "a"
   ]
  },
  {
   "cell_type": "markdown",
   "metadata": {
    "id": "Cj0INa0-EI-U"
   },
   "source": [
    "## 2. Tensor Objects and Numpy Arrays\n",
    "With eager execution, Numpy operations can take tf.Tensor as parameters.\\\n",
    "run the following cells "
   ]
  },
  {
   "cell_type": "code",
   "execution_count": 14,
   "metadata": {
    "id": "_TEgRazb3Fa8"
   },
   "outputs": [],
   "source": [
    "def np_multiply(a, b):\n",
    "    return np.multiply(a, b)"
   ]
  },
  {
   "cell_type": "code",
   "execution_count": 15,
   "metadata": {
    "id": "Ozgh7H9XE4UX"
   },
   "outputs": [
    {
     "data": {
      "text/plain": [
       "array([50])"
      ]
     },
     "execution_count": 15,
     "metadata": {},
     "output_type": "execute_result"
    }
   ],
   "source": [
    "a_tensor = tf.constant([5])\n",
    "b_tensor = tf.constant([10])\n",
    "np_multiply(a_tensor, b_tensor)"
   ]
  },
  {
   "cell_type": "markdown",
   "metadata": {
    "id": "_891Hj-5FOhB"
   },
   "source": [
    "What about vice versa?\\\n",
    "Write an eager function that gets two numpy array and by using `tf.math.multiply` multiply these arrays."
   ]
  },
  {
   "cell_type": "code",
   "execution_count": 23,
   "metadata": {
    "id": "rfaDTKbJFOCC"
   },
   "outputs": [],
   "source": [
    "# @tf.function\n",
    "def tf_multiply(a, b):\n",
    "    return tf.math.multiply(a,b)"
   ]
  },
  {
   "cell_type": "code",
   "execution_count": 24,
   "metadata": {
    "id": "3Kzl1f_vFEnD"
   },
   "outputs": [
    {
     "data": {
      "text/plain": [
       "<tf.Tensor: shape=(1,), dtype=int32, numpy=array([50])>"
      ]
     },
     "execution_count": 24,
     "metadata": {},
     "output_type": "execute_result"
    }
   ],
   "source": [
    "a_array = np.array([5])\n",
    "b_array = np.array([10])\n",
    "tf_multiply(a_array, b_array)"
   ]
  },
  {
   "cell_type": "markdown",
   "metadata": {
    "id": "RJ38RxGOG0Na"
   },
   "source": [
    "now convert there two functions into Graph functions and run again:"
   ]
  },
  {
   "cell_type": "code",
   "execution_count": 25,
   "metadata": {
    "id": "KDJp-Ea6F2Ym"
   },
   "outputs": [],
   "source": [
    "np_multiply_tf_func = tf.function(tf_multiply)\n",
    "tf_multiply_tf_func = tf.function(np_multiply)"
   ]
  },
  {
   "cell_type": "code",
   "execution_count": 26,
   "metadata": {
    "id": "AeUdamKxHh9Y"
   },
   "outputs": [
    {
     "data": {
      "text/plain": [
       "<tf.Tensor: shape=(1,), dtype=int32, numpy=array([50])>"
      ]
     },
     "execution_count": 26,
     "metadata": {},
     "output_type": "execute_result"
    }
   ],
   "source": [
    "np_multiply_tf_func(a_tensor, b_tensor)"
   ]
  },
  {
   "cell_type": "markdown",
   "metadata": {
    "id": "xNhz949QYRZT"
   },
   "source": [
    "As you noticed we can't use `numpy` operations inside graph functions and we must use their `TensorFlow` equivalents.\\\n",
    "Also TensorFlow has a new API which implemented the numpy functions:\n",
    "https://www.tensorflow.org/guide/tf_numpy"
   ]
  },
  {
   "cell_type": "code",
   "execution_count": 27,
   "metadata": {
    "collapsed": true,
    "id": "_-kRsEe8HnAn"
   },
   "outputs": [
    {
     "ename": "NotImplementedError",
     "evalue": "in user code:\n\n    File \"C:\\Users\\shomalco\\AppData\\Local\\Temp\\ipykernel_7684\\284224191.py\", line 2, in np_multiply  *\n        return np.multiply(a, b)\n\n    NotImplementedError: Cannot convert a symbolic tf.Tensor (a:0) to a numpy array. This error may indicate that you're trying to pass a Tensor to a NumPy call, which is not supported.\n",
     "output_type": "error",
     "traceback": [
      "\u001b[1;31m---------------------------------------------------------------------------\u001b[0m",
      "\u001b[1;31mNotImplementedError\u001b[0m                       Traceback (most recent call last)",
      "Cell \u001b[1;32mIn[27], line 1\u001b[0m\n\u001b[1;32m----> 1\u001b[0m \u001b[43mtf_multiply_tf_func\u001b[49m\u001b[43m(\u001b[49m\u001b[43ma_array\u001b[49m\u001b[43m,\u001b[49m\u001b[43m \u001b[49m\u001b[43mb_array\u001b[49m\u001b[43m)\u001b[49m\n",
      "File \u001b[1;32m~\\anaconda3\\envs\\tf_env\\lib\\site-packages\\tensorflow\\python\\util\\traceback_utils.py:153\u001b[0m, in \u001b[0;36mfilter_traceback.<locals>.error_handler\u001b[1;34m(*args, **kwargs)\u001b[0m\n\u001b[0;32m    151\u001b[0m \u001b[38;5;28;01mexcept\u001b[39;00m \u001b[38;5;167;01mException\u001b[39;00m \u001b[38;5;28;01mas\u001b[39;00m e:\n\u001b[0;32m    152\u001b[0m   filtered_tb \u001b[38;5;241m=\u001b[39m _process_traceback_frames(e\u001b[38;5;241m.\u001b[39m__traceback__)\n\u001b[1;32m--> 153\u001b[0m   \u001b[38;5;28;01mraise\u001b[39;00m e\u001b[38;5;241m.\u001b[39mwith_traceback(filtered_tb) \u001b[38;5;28;01mfrom\u001b[39;00m \u001b[38;5;28;01mNone\u001b[39;00m\n\u001b[0;32m    154\u001b[0m \u001b[38;5;28;01mfinally\u001b[39;00m:\n\u001b[0;32m    155\u001b[0m   \u001b[38;5;28;01mdel\u001b[39;00m filtered_tb\n",
      "File \u001b[1;32m~\\AppData\\Local\\Temp\\__autograph_generated_file9b70ukt2.py:12\u001b[0m, in \u001b[0;36mouter_factory.<locals>.inner_factory.<locals>.tf__np_multiply\u001b[1;34m(a, b)\u001b[0m\n\u001b[0;32m     10\u001b[0m \u001b[38;5;28;01mtry\u001b[39;00m:\n\u001b[0;32m     11\u001b[0m     do_return \u001b[38;5;241m=\u001b[39m \u001b[38;5;28;01mTrue\u001b[39;00m\n\u001b[1;32m---> 12\u001b[0m     retval_ \u001b[38;5;241m=\u001b[39m ag__\u001b[38;5;241m.\u001b[39mconverted_call(ag__\u001b[38;5;241m.\u001b[39mld(np)\u001b[38;5;241m.\u001b[39mmultiply, (ag__\u001b[38;5;241m.\u001b[39mld(a), ag__\u001b[38;5;241m.\u001b[39mld(b)), \u001b[38;5;28;01mNone\u001b[39;00m, fscope)\n\u001b[0;32m     13\u001b[0m \u001b[38;5;28;01mexcept\u001b[39;00m:\n\u001b[0;32m     14\u001b[0m     do_return \u001b[38;5;241m=\u001b[39m \u001b[38;5;28;01mFalse\u001b[39;00m\n",
      "\u001b[1;31mNotImplementedError\u001b[0m: in user code:\n\n    File \"C:\\Users\\shomalco\\AppData\\Local\\Temp\\ipykernel_7684\\284224191.py\", line 2, in np_multiply  *\n        return np.multiply(a, b)\n\n    NotImplementedError: Cannot convert a symbolic tf.Tensor (a:0) to a numpy array. This error may indicate that you're trying to pass a Tensor to a NumPy call, which is not supported.\n"
     ]
    }
   ],
   "source": [
    "tf_multiply_tf_func(a_array, b_array)"
   ]
  },
  {
   "cell_type": "markdown",
   "metadata": {
    "id": "8SLA4FhKZPOb"
   },
   "source": [
    "## 3. Tensor Assignment\n",
    "Let's write an eager function that gets a one dimensional Tensor and assing `1` to its first element"
   ]
  },
  {
   "cell_type": "code",
   "execution_count": 28,
   "metadata": {
    "id": "QTu3IsdiZOlN"
   },
   "outputs": [],
   "source": [
    "def assign_one(x):\n",
    "    x[1] = 1\n",
    "    return x"
   ]
  },
  {
   "cell_type": "code",
   "execution_count": 29,
   "metadata": {
    "id": "WN0Wtct0ZxgQ"
   },
   "outputs": [
    {
     "ename": "TypeError",
     "evalue": "'tensorflow.python.framework.ops.EagerTensor' object does not support item assignment",
     "output_type": "error",
     "traceback": [
      "\u001b[1;31m---------------------------------------------------------------------------\u001b[0m",
      "\u001b[1;31mTypeError\u001b[0m                                 Traceback (most recent call last)",
      "Cell \u001b[1;32mIn[29], line 2\u001b[0m\n\u001b[0;32m      1\u001b[0m x \u001b[38;5;241m=\u001b[39m tf\u001b[38;5;241m.\u001b[39mconstant([\u001b[38;5;241m5\u001b[39m, \u001b[38;5;241m6\u001b[39m, \u001b[38;5;241m7\u001b[39m])\n\u001b[1;32m----> 2\u001b[0m \u001b[43massign_one\u001b[49m\u001b[43m(\u001b[49m\u001b[43mx\u001b[49m\u001b[43m)\u001b[49m\n",
      "Cell \u001b[1;32mIn[28], line 2\u001b[0m, in \u001b[0;36massign_one\u001b[1;34m(x)\u001b[0m\n\u001b[0;32m      1\u001b[0m \u001b[38;5;28;01mdef\u001b[39;00m \u001b[38;5;21massign_one\u001b[39m(x):\n\u001b[1;32m----> 2\u001b[0m     \u001b[43mx\u001b[49m\u001b[43m[\u001b[49m\u001b[38;5;241;43m1\u001b[39;49m\u001b[43m]\u001b[49m \u001b[38;5;241m=\u001b[39m \u001b[38;5;241m1\u001b[39m\n\u001b[0;32m      3\u001b[0m     \u001b[38;5;28;01mreturn\u001b[39;00m x\n",
      "\u001b[1;31mTypeError\u001b[0m: 'tensorflow.python.framework.ops.EagerTensor' object does not support item assignment"
     ]
    }
   ],
   "source": [
    "x = tf.constant([5, 6, 7])\n",
    "assign_one(x)"
   ]
  },
  {
   "cell_type": "markdown",
   "metadata": {
    "id": "tk41zqXmabG7"
   },
   "source": [
    "You can see that TensorFlow `Tensor` object does not support item assignment in contrast with numpy array or python lists"
   ]
  },
  {
   "cell_type": "markdown",
   "metadata": {
    "id": "H7A9eLqOasjx"
   },
   "source": [
    "But there is a way to do this in eager mode:\n",
    "1. create a numpy array from the tensor by calling `tensor.numpy()\n",
    "2. assign the value to numpy array \n",
    "3. create a constant tensor from the numpy array\n",
    "\n",
    "let's write it"
   ]
  },
  {
   "cell_type": "code",
   "execution_count": 34,
   "metadata": {
    "id": "tUK5fj2HZ31g"
   },
   "outputs": [],
   "source": [
    "def assign_one_new(x):\n",
    "    x_numpy = x.numpy()\n",
    "    x_numpy[0] = 1\n",
    "    return tf.constant(x_numpy)"
   ]
  },
  {
   "cell_type": "code",
   "execution_count": 35,
   "metadata": {
    "id": "IDTA_EexaSJB"
   },
   "outputs": [
    {
     "data": {
      "text/plain": [
       "<tf.Tensor: shape=(3,), dtype=int32, numpy=array([1, 6, 7])>"
      ]
     },
     "execution_count": 35,
     "metadata": {},
     "output_type": "execute_result"
    }
   ],
   "source": [
    "x = tf.constant([5, 6, 7])\n",
    "assign_one_new(x)"
   ]
  },
  {
   "cell_type": "markdown",
   "metadata": {
    "id": "v384d3hHcQcO"
   },
   "source": [
    "Now convert this function to a Graph function"
   ]
  },
  {
   "cell_type": "code",
   "execution_count": 36,
   "metadata": {
    "id": "eUjdWozuaT65"
   },
   "outputs": [],
   "source": [
    "assign_one_graph = tf.function(assign_one_new)"
   ]
  },
  {
   "cell_type": "code",
   "execution_count": 37,
   "metadata": {
    "id": "C8HJCNBHchtp"
   },
   "outputs": [
    {
     "ename": "AttributeError",
     "evalue": "in user code:\n\n    File \"C:\\Users\\shomalco\\AppData\\Local\\Temp\\ipykernel_7684\\2432147533.py\", line 2, in assign_one_new  *\n        x_numpy = x.numpy()\n\n    AttributeError: 'Tensor' object has no attribute 'numpy'\n",
     "output_type": "error",
     "traceback": [
      "\u001b[1;31m---------------------------------------------------------------------------\u001b[0m",
      "\u001b[1;31mAttributeError\u001b[0m                            Traceback (most recent call last)",
      "Cell \u001b[1;32mIn[37], line 2\u001b[0m\n\u001b[0;32m      1\u001b[0m x \u001b[38;5;241m=\u001b[39m tf\u001b[38;5;241m.\u001b[39mconstant([\u001b[38;5;241m5\u001b[39m, \u001b[38;5;241m6\u001b[39m, \u001b[38;5;241m7\u001b[39m])\n\u001b[1;32m----> 2\u001b[0m \u001b[43massign_one_graph\u001b[49m\u001b[43m(\u001b[49m\u001b[43mx\u001b[49m\u001b[43m)\u001b[49m\n",
      "File \u001b[1;32m~\\anaconda3\\envs\\tf_env\\lib\\site-packages\\tensorflow\\python\\util\\traceback_utils.py:153\u001b[0m, in \u001b[0;36mfilter_traceback.<locals>.error_handler\u001b[1;34m(*args, **kwargs)\u001b[0m\n\u001b[0;32m    151\u001b[0m \u001b[38;5;28;01mexcept\u001b[39;00m \u001b[38;5;167;01mException\u001b[39;00m \u001b[38;5;28;01mas\u001b[39;00m e:\n\u001b[0;32m    152\u001b[0m   filtered_tb \u001b[38;5;241m=\u001b[39m _process_traceback_frames(e\u001b[38;5;241m.\u001b[39m__traceback__)\n\u001b[1;32m--> 153\u001b[0m   \u001b[38;5;28;01mraise\u001b[39;00m e\u001b[38;5;241m.\u001b[39mwith_traceback(filtered_tb) \u001b[38;5;28;01mfrom\u001b[39;00m \u001b[38;5;28;01mNone\u001b[39;00m\n\u001b[0;32m    154\u001b[0m \u001b[38;5;28;01mfinally\u001b[39;00m:\n\u001b[0;32m    155\u001b[0m   \u001b[38;5;28;01mdel\u001b[39;00m filtered_tb\n",
      "File \u001b[1;32m~\\AppData\\Local\\Temp\\__autograph_generated_filep0ua389h.py:10\u001b[0m, in \u001b[0;36mouter_factory.<locals>.inner_factory.<locals>.tf__assign_one_new\u001b[1;34m(x)\u001b[0m\n\u001b[0;32m      8\u001b[0m do_return \u001b[38;5;241m=\u001b[39m \u001b[38;5;28;01mFalse\u001b[39;00m\n\u001b[0;32m      9\u001b[0m retval_ \u001b[38;5;241m=\u001b[39m ag__\u001b[38;5;241m.\u001b[39mUndefinedReturnValue()\n\u001b[1;32m---> 10\u001b[0m x_numpy \u001b[38;5;241m=\u001b[39m ag__\u001b[38;5;241m.\u001b[39mconverted_call(ag__\u001b[38;5;241m.\u001b[39mld(x)\u001b[38;5;241m.\u001b[39mnumpy, (), \u001b[38;5;28;01mNone\u001b[39;00m, fscope)\n\u001b[0;32m     11\u001b[0m ag__\u001b[38;5;241m.\u001b[39mld(x_numpy)[\u001b[38;5;241m0\u001b[39m] \u001b[38;5;241m=\u001b[39m \u001b[38;5;241m1\u001b[39m\n\u001b[0;32m     12\u001b[0m \u001b[38;5;28;01mtry\u001b[39;00m:\n",
      "\u001b[1;31mAttributeError\u001b[0m: in user code:\n\n    File \"C:\\Users\\shomalco\\AppData\\Local\\Temp\\ipykernel_7684\\2432147533.py\", line 2, in assign_one_new  *\n        x_numpy = x.numpy()\n\n    AttributeError: 'Tensor' object has no attribute 'numpy'\n"
     ]
    }
   ],
   "source": [
    "x = tf.constant([5, 6, 7])\n",
    "assign_one_graph(x)"
   ]
  },
  {
   "cell_type": "markdown",
   "metadata": {
    "id": "SoPqXDDFcwn8"
   },
   "source": [
    "You can see that there is no way to assign a value to a `Tensor` in graph mode, you should consider it in your implementations.\n",
    "You can use `tf.Variable` instead of Tensors for assignments:\n",
    "https://www.tensorflow.org/api_docs/python/tf/Variable#assign"
   ]
  },
  {
   "cell_type": "markdown",
   "metadata": {
    "id": "5vdQZAhhdb0h"
   },
   "source": [
    "## Conclusion \n",
    "In this assignment we have investigated some differences of Graph mode and Eager mode in TensorFlow, specially we saw that working with Python Lists and Numpy Arrays have some difficulties with Graph Mode"
   ]
  },
  {
   "cell_type": "code",
   "execution_count": null,
   "metadata": {
    "id": "3ztOM_radz9X"
   },
   "outputs": [],
   "source": []
  }
 ],
 "metadata": {
  "colab": {
   "authorship_tag": "ABX9TyNYAKxd3yam6d0T9ZV50W7s",
   "provenance": []
  },
  "kernelspec": {
   "display_name": "Python 3 (ipykernel)",
   "language": "python",
   "name": "python3"
  },
  "language_info": {
   "codemirror_mode": {
    "name": "ipython",
    "version": 3
   },
   "file_extension": ".py",
   "mimetype": "text/x-python",
   "name": "python",
   "nbconvert_exporter": "python",
   "pygments_lexer": "ipython3",
   "version": "3.9.16"
  }
 },
 "nbformat": 4,
 "nbformat_minor": 1
}
